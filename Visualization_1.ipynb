{
 "cells": [
  {
   "cell_type": "code",
   "execution_count": 5,
   "metadata": {},
   "outputs": [],
   "source": [
    "import pandas as pd\n",
    "import altair as alt"
   ]
  },
  {
   "cell_type": "code",
   "execution_count": 6,
   "metadata": {},
   "outputs": [],
   "source": [
    "names = pd.read_csv('dpt2020.csv', sep=';')"
   ]
  },
  {
   "cell_type": "code",
   "execution_count": 7,
   "metadata": {},
   "outputs": [
    {
     "data": {
      "text/html": [
       "<div>\n",
       "<style scoped>\n",
       "    .dataframe tbody tr th:only-of-type {\n",
       "        vertical-align: middle;\n",
       "    }\n",
       "\n",
       "    .dataframe tbody tr th {\n",
       "        vertical-align: top;\n",
       "    }\n",
       "\n",
       "    .dataframe thead th {\n",
       "        text-align: right;\n",
       "    }\n",
       "</style>\n",
       "<table border=\"1\" class=\"dataframe\">\n",
       "  <thead>\n",
       "    <tr style=\"text-align: right;\">\n",
       "      <th></th>\n",
       "      <th>sexe</th>\n",
       "      <th>preusuel</th>\n",
       "      <th>annais</th>\n",
       "      <th>dpt</th>\n",
       "      <th>nombre</th>\n",
       "    </tr>\n",
       "  </thead>\n",
       "  <tbody>\n",
       "    <tr>\n",
       "      <th>0</th>\n",
       "      <td>1</td>\n",
       "      <td>_PRENOMS_RARES</td>\n",
       "      <td>1900</td>\n",
       "      <td>02</td>\n",
       "      <td>7</td>\n",
       "    </tr>\n",
       "    <tr>\n",
       "      <th>1</th>\n",
       "      <td>1</td>\n",
       "      <td>_PRENOMS_RARES</td>\n",
       "      <td>1900</td>\n",
       "      <td>04</td>\n",
       "      <td>9</td>\n",
       "    </tr>\n",
       "    <tr>\n",
       "      <th>2</th>\n",
       "      <td>1</td>\n",
       "      <td>_PRENOMS_RARES</td>\n",
       "      <td>1900</td>\n",
       "      <td>05</td>\n",
       "      <td>8</td>\n",
       "    </tr>\n",
       "    <tr>\n",
       "      <th>3</th>\n",
       "      <td>1</td>\n",
       "      <td>_PRENOMS_RARES</td>\n",
       "      <td>1900</td>\n",
       "      <td>06</td>\n",
       "      <td>23</td>\n",
       "    </tr>\n",
       "    <tr>\n",
       "      <th>4</th>\n",
       "      <td>1</td>\n",
       "      <td>_PRENOMS_RARES</td>\n",
       "      <td>1900</td>\n",
       "      <td>07</td>\n",
       "      <td>9</td>\n",
       "    </tr>\n",
       "    <tr>\n",
       "      <th>...</th>\n",
       "      <td>...</td>\n",
       "      <td>...</td>\n",
       "      <td>...</td>\n",
       "      <td>...</td>\n",
       "      <td>...</td>\n",
       "    </tr>\n",
       "    <tr>\n",
       "      <th>3727548</th>\n",
       "      <td>2</td>\n",
       "      <td>ZYA</td>\n",
       "      <td>2018</td>\n",
       "      <td>59</td>\n",
       "      <td>3</td>\n",
       "    </tr>\n",
       "    <tr>\n",
       "      <th>3727549</th>\n",
       "      <td>2</td>\n",
       "      <td>ZYA</td>\n",
       "      <td>XXXX</td>\n",
       "      <td>XX</td>\n",
       "      <td>264</td>\n",
       "    </tr>\n",
       "    <tr>\n",
       "      <th>3727550</th>\n",
       "      <td>2</td>\n",
       "      <td>ZYNA</td>\n",
       "      <td>2013</td>\n",
       "      <td>93</td>\n",
       "      <td>3</td>\n",
       "    </tr>\n",
       "    <tr>\n",
       "      <th>3727551</th>\n",
       "      <td>2</td>\n",
       "      <td>ZYNA</td>\n",
       "      <td>XXXX</td>\n",
       "      <td>XX</td>\n",
       "      <td>59</td>\n",
       "    </tr>\n",
       "    <tr>\n",
       "      <th>3727552</th>\n",
       "      <td>2</td>\n",
       "      <td>ZYNEB</td>\n",
       "      <td>XXXX</td>\n",
       "      <td>XX</td>\n",
       "      <td>119</td>\n",
       "    </tr>\n",
       "  </tbody>\n",
       "</table>\n",
       "<p>3727553 rows × 5 columns</p>\n",
       "</div>"
      ],
      "text/plain": [
       "         sexe        preusuel annais dpt  nombre\n",
       "0           1  _PRENOMS_RARES   1900  02       7\n",
       "1           1  _PRENOMS_RARES   1900  04       9\n",
       "2           1  _PRENOMS_RARES   1900  05       8\n",
       "3           1  _PRENOMS_RARES   1900  06      23\n",
       "4           1  _PRENOMS_RARES   1900  07       9\n",
       "...       ...             ...    ...  ..     ...\n",
       "3727548     2             ZYA   2018  59       3\n",
       "3727549     2             ZYA   XXXX  XX     264\n",
       "3727550     2            ZYNA   2013  93       3\n",
       "3727551     2            ZYNA   XXXX  XX      59\n",
       "3727552     2           ZYNEB   XXXX  XX     119\n",
       "\n",
       "[3727553 rows x 5 columns]"
      ]
     },
     "execution_count": 7,
     "metadata": {},
     "output_type": "execute_result"
    }
   ],
   "source": [
    "names"
   ]
  },
  {
   "cell_type": "code",
   "execution_count": 8,
   "metadata": {},
   "outputs": [
    {
     "name": "stdout",
     "output_type": "stream",
     "text": [
      "<class 'pandas.core.frame.DataFrame'>\n",
      "RangeIndex: 3727553 entries, 0 to 3727552\n",
      "Data columns (total 5 columns):\n",
      " #   Column    Dtype \n",
      "---  ------    ----- \n",
      " 0   sexe      int64 \n",
      " 1   preusuel  object\n",
      " 2   annais    object\n",
      " 3   dpt       object\n",
      " 4   nombre    int64 \n",
      "dtypes: int64(2), object(3)\n",
      "memory usage: 142.2+ MB\n"
     ]
    }
   ],
   "source": [
    "names.info()"
   ]
  },
  {
   "cell_type": "code",
   "execution_count": 9,
   "metadata": {},
   "outputs": [
    {
     "data": {
      "text/html": [
       "<div>\n",
       "<style scoped>\n",
       "    .dataframe tbody tr th:only-of-type {\n",
       "        vertical-align: middle;\n",
       "    }\n",
       "\n",
       "    .dataframe tbody tr th {\n",
       "        vertical-align: top;\n",
       "    }\n",
       "\n",
       "    .dataframe thead th {\n",
       "        text-align: right;\n",
       "    }\n",
       "</style>\n",
       "<table border=\"1\" class=\"dataframe\">\n",
       "  <thead>\n",
       "    <tr style=\"text-align: right;\">\n",
       "      <th></th>\n",
       "      <th>sexe</th>\n",
       "      <th>nombre</th>\n",
       "    </tr>\n",
       "  </thead>\n",
       "  <tbody>\n",
       "    <tr>\n",
       "      <th>count</th>\n",
       "      <td>3.727553e+06</td>\n",
       "      <td>3.727553e+06</td>\n",
       "    </tr>\n",
       "    <tr>\n",
       "      <th>mean</th>\n",
       "      <td>1.535894e+00</td>\n",
       "      <td>2.323390e+01</td>\n",
       "    </tr>\n",
       "    <tr>\n",
       "      <th>std</th>\n",
       "      <td>4.987100e-01</td>\n",
       "      <td>8.047527e+01</td>\n",
       "    </tr>\n",
       "    <tr>\n",
       "      <th>min</th>\n",
       "      <td>1.000000e+00</td>\n",
       "      <td>3.000000e+00</td>\n",
       "    </tr>\n",
       "    <tr>\n",
       "      <th>25%</th>\n",
       "      <td>1.000000e+00</td>\n",
       "      <td>4.000000e+00</td>\n",
       "    </tr>\n",
       "    <tr>\n",
       "      <th>50%</th>\n",
       "      <td>2.000000e+00</td>\n",
       "      <td>7.000000e+00</td>\n",
       "    </tr>\n",
       "    <tr>\n",
       "      <th>75%</th>\n",
       "      <td>2.000000e+00</td>\n",
       "      <td>1.900000e+01</td>\n",
       "    </tr>\n",
       "    <tr>\n",
       "      <th>max</th>\n",
       "      <td>2.000000e+00</td>\n",
       "      <td>6.310000e+03</td>\n",
       "    </tr>\n",
       "  </tbody>\n",
       "</table>\n",
       "</div>"
      ],
      "text/plain": [
       "               sexe        nombre\n",
       "count  3.727553e+06  3.727553e+06\n",
       "mean   1.535894e+00  2.323390e+01\n",
       "std    4.987100e-01  8.047527e+01\n",
       "min    1.000000e+00  3.000000e+00\n",
       "25%    1.000000e+00  4.000000e+00\n",
       "50%    2.000000e+00  7.000000e+00\n",
       "75%    2.000000e+00  1.900000e+01\n",
       "max    2.000000e+00  6.310000e+03"
      ]
     },
     "execution_count": 9,
     "metadata": {},
     "output_type": "execute_result"
    }
   ],
   "source": [
    "names.describe()"
   ]
  },
  {
   "cell_type": "code",
   "execution_count": 10,
   "metadata": {},
   "outputs": [
    {
     "data": {
      "text/plain": [
       "dpt\n",
       "75    127100\n",
       "59    103867\n",
       "69     80879\n",
       "13     79177\n",
       "62     67952\n",
       "       ...  \n",
       "09     15305\n",
       "05     14928\n",
       "04     13286\n",
       "23     12482\n",
       "48     11099\n",
       "Name: count, Length: 100, dtype: int64"
      ]
     },
     "execution_count": 10,
     "metadata": {},
     "output_type": "execute_result"
    }
   ],
   "source": [
    "names.dpt.value_counts()"
   ]
  },
  {
   "cell_type": "code",
   "execution_count": 11,
   "metadata": {},
   "outputs": [],
   "source": [
    "names.drop(names[names.preusuel == '_PRENOMS_RARES'].index, inplace=True)\n",
    "names.drop(names[names.dpt == 'XX'].index, inplace=True)"
   ]
  },
  {
   "cell_type": "code",
   "execution_count": 12,
   "metadata": {},
   "outputs": [],
   "source": [
    "# Convert 'annais' to int\n",
    "names['annais'] = names['annais'].astype(int)"
   ]
  },
  {
   "cell_type": "markdown",
   "metadata": {},
   "source": [
    "## Visualization : 3\n",
    "\n",
    "Are there gender effects in the data? Does popularity of names given to both sexes evolve consistently? (Note: this data set treats sex as binary; this is a simplification that carries into this assignment but does not generally hold.)"
   ]
  },
  {
   "cell_type": "markdown",
   "metadata": {},
   "source": [
    "## Sketch\n",
    "\n",
    "This bar chart makes side-by-side comparison between the most popular male and female names each year.\n",
    "\n",
    "Bars represent the number of babies given the top male (blue) and female (red) names yearly.\n",
    "\n",
    "This design makes it easy to see how the popularity of names has changed over time for each gender.\n",
    "\n",
    "This chart is strong in its simplicity, offering a straightforward look at gender-based trends in naming without overwhelming the viewer with too much data."
   ]
  },
  {
   "attachments": {
    "image.png": {
     "image/png": "[encoded data removed]"
    }
   },
   "cell_type": "markdown",
   "metadata": {},
   "source": [
    "![image.png](attachment:image.png)"
   ]
  },
  {
   "cell_type": "markdown",
   "metadata": {},
   "source": [
    "## Implementation"
   ]
  },
  {
   "cell_type": "code",
   "execution_count": 13,
   "metadata": {},
   "outputs": [],
   "source": [
    "# Group by year, name, and sex, then sum the counts\n",
    "national_names = names.groupby(['annais', 'preusuel', 'sexe']).nombre.sum().reset_index()\n",
    "\n",
    "# Separate male and female names\n",
    "names_males = national_names[national_names.sexe == 1]\n",
    "names_females = national_names[national_names.sexe == 2]\n",
    "\n",
    "def most_popular(names):\n",
    "    # Get the most popular name for each year\n",
    "    most_popular_names = names.groupby('annais')['nombre'].idxmax()\n",
    "    return names.loc[most_popular_names]\n",
    "\n",
    "most_popular_males = most_popular(names_males)\n",
    "most_popular_females = most_popular(names_females)\n",
    "\n",
    "# Combine male and female most popular names\n",
    "most_popular_names = pd.concat([most_popular_females, most_popular_males]).sort_values(['annais', 'sexe'])"
   ]
  },
  {
   "cell_type": "code",
   "execution_count": 17,
   "metadata": {},
   "outputs": [
    {
     "name": "stderr",
     "output_type": "stream",
     "text": [
      "c:\\Users\\ahmed\\anaconda3\\envs\\visualization\\lib\\site-packages\\altair\\utils\\core.py:395: FutureWarning: the convert_dtype parameter is deprecated and will be removed in a future version.  Do ``ser.astype(object).apply()`` instead if you want ``convert_dtype=False``.\n",
      "  col = df[col_name].apply(to_list_if_array, convert_dtype=False)\n"
     ]
    },
    {
     "data": {
      "text/html": [
       "\n",
       "<style>\n",
       "  #altair-viz-40cbf3b3f47c45648c9ea54ad33bee09.vega-embed {\n",
       "    width: 100%;\n",
       "    display: flex;\n",
       "  }\n",
       "\n",
       "  #altair-viz-40cbf3b3f47c45648c9ea54ad33bee09.vega-embed details,\n",
       "  #altair-viz-40cbf3b3f47c45648c9ea54ad33bee09.vega-embed details summary {\n",
       "    position: relative;\n",
       "  }\n",
       "</style>\n",
       "<div id=\"altair-viz-40cbf3b3f47c45648c9ea54ad33bee09\"></div>\n",
       "<script type=\"text/javascript\">\n",
       "  var VEGA_DEBUG = (typeof VEGA_DEBUG == \"undefined\") ? {} : VEGA_DEBUG;\n",
       "  (function(spec, embedOpt){\n",
       "    let outputDiv = document.currentScript.previousElementSibling;\n",
       "    if (outputDiv.id !== \"altair-viz-40cbf3b3f47c45648c9ea54ad33bee09\") {\n",
       "      outputDiv = document.getElementById(\"altair-viz-40cbf3b3f47c45648c9ea54ad33bee09\");\n",
       "    }\n",
       "    const paths = {\n",
       "      \"vega\": \"https://cdn.jsdelivr.net/npm/vega@5?noext\",\n",
       "      \"vega-lib\": \"https://cdn.jsdelivr.net/npm/vega-lib?noext\",\n",
       "      \"vega-lite\": \"https://cdn.jsdelivr.net/npm/vega-lite@5.8.0?noext\",\n",
       "      \"vega-embed\": \"https://cdn.jsdelivr.net/npm/vega-embed@6?noext\",\n",
       "    };\n",
       "\n",
       "    function maybeLoadScript(lib, version) {\n",
       "      var key = `${lib.replace(\"-\", \"\")}_version`;\n",
       "      return (VEGA_DEBUG[key] == version) ?\n",
       "        Promise.resolve(paths[lib]) :\n",
       "        new Promise(function(resolve, reject) {\n",
       "          var s = document.createElement('script');\n",
       "          document.getElementsByTagName(\"head\")[0].appendChild(s);\n",
       "          s.async = true;\n",
       "          s.onload = () => {\n",
       "            VEGA_DEBUG[key] = version;\n",
       "            return resolve(paths[lib]);\n",
       "          };\n",
       "          s.onerror = () => reject(`Error loading script: ${paths[lib]}`);\n",
       "          s.src = paths[lib];\n",
       "        });\n",
       "    }\n",
       "\n",
       "    function showError(err) {\n",
       "      outputDiv.innerHTML = `<div class=\"error\" style=\"color:red;\">${err}</div>`;\n",
       "      throw err;\n",
       "    }\n",
       "\n",
       "    function displayChart(vegaEmbed) {\n",
       "      vegaEmbed(outputDiv, spec, embedOpt)\n",
       "        .catch(err => showError(`Javascript Error: ${err.message}<br>This usually means there's a typo in your chart specification. See the javascript console for the full traceback.`));\n",
       "    }\n",
       "\n",
       "    if(typeof define === \"function\" && define.amd) {\n",
       "      requirejs.config({paths});\n",
       "      require([\"vega-embed\"], displayChart, err => showError(`Error loading script: ${err.message}`));\n",
       "    } else {\n",
       "      maybeLoadScript(\"vega\", \"5\")\n",
       "        .then(() => maybeLoadScript(\"vega-lite\", \"5.8.0\"))\n",
       "        .then(() => maybeLoadScript(\"vega-embed\", \"6\"))\n",
       "        .catch(showError)\n",
       "        .then(() => displayChart(vegaEmbed));\n",
       "    }\n",
       "  })({\"config\": {\"view\": {\"continuousWidth\": 300, \"continuousHeight\": 300}}, \"data\": {\"name\": \"data-00b93f020ab72bbfddb91140c4d3f183\"}, \"mark\": {\"type\": \"bar\"}, \"encoding\": {\"color\": {\"field\": \"sexe\", \"scale\": {\"domain\": [1, 2], \"range\": [\"lightblue\", \"lightcoral\"]}, \"title\": \"Gender\", \"type\": \"nominal\"}, \"tooltip\": [{\"field\": \"annais\", \"type\": \"quantitative\"}, {\"field\": \"preusuel\", \"type\": \"nominal\"}, {\"field\": \"nombre\", \"type\": \"quantitative\"}], \"x\": {\"axis\": {\"labelAngle\": -90}, \"field\": \"annais\", \"title\": \"Year\", \"type\": \"ordinal\"}, \"y\": {\"field\": \"nombre\", \"title\": \"Number of Babies\", \"type\": \"quantitative\"}}, \"height\": 600, \"title\": \"Most Popular Male and Female Names in France Between 1900 and 2020\", \"width\": 1200, \"$schema\": \"https://vega.github.io/schema/vega-lite/v5.8.0.json\", \"datasets\": {\"data-00b93f020ab72bbfddb91140c4d3f183\": [{\"annais\": 1900, \"preusuel\": \"JEAN\", \"sexe\": 1, \"nombre\": 14097}, {\"annais\": 1900, \"preusuel\": \"MARIE\", \"sexe\": 2, \"nombre\": 48713}, {\"annais\": 1901, \"preusuel\": \"JEAN\", \"sexe\": 1, \"nombre\": 15634}, {\"annais\": 1901, \"preusuel\": \"MARIE\", \"sexe\": 2, \"nombre\": 52150}, {\"annais\": 1902, \"preusuel\": \"JEAN\", \"sexe\": 1, \"nombre\": 16364}, {\"annais\": 1902, \"preusuel\": \"MARIE\", \"sexe\": 2, \"nombre\": 51857}, {\"annais\": 1903, \"preusuel\": \"JEAN\", \"sexe\": 1, \"nombre\": 16535}, {\"annais\": 1903, \"preusuel\": \"MARIE\", \"sexe\": 2, \"nombre\": 50424}, {\"annais\": 1904, \"preusuel\": \"JEAN\", \"sexe\": 1, \"nombre\": 16944}, {\"annais\": 1904, \"preusuel\": \"MARIE\", \"sexe\": 2, \"nombre\": 50131}, {\"annais\": 1905, \"preusuel\": \"JEAN\", \"sexe\": 1, \"nombre\": 17998}, {\"annais\": 1905, \"preusuel\": \"MARIE\", \"sexe\": 2, \"nombre\": 48981}, {\"annais\": 1906, \"preusuel\": \"JEAN\", \"sexe\": 1, \"nombre\": 18522}, {\"annais\": 1906, \"preusuel\": \"MARIE\", \"sexe\": 2, \"nombre\": 48447}, {\"annais\": 1907, \"preusuel\": \"JEAN\", \"sexe\": 1, \"nombre\": 18475}, {\"annais\": 1907, \"preusuel\": \"MARIE\", \"sexe\": 2, \"nombre\": 46048}, {\"annais\": 1908, \"preusuel\": \"JEAN\", \"sexe\": 1, \"nombre\": 19935}, {\"annais\": 1908, \"preusuel\": \"MARIE\", \"sexe\": 2, \"nombre\": 47460}, {\"annais\": 1909, \"preusuel\": \"JEAN\", \"sexe\": 1, \"nombre\": 20152}, {\"annais\": 1909, \"preusuel\": \"MARIE\", \"sexe\": 2, \"nombre\": 46398}, {\"annais\": 1910, \"preusuel\": \"JEAN\", \"sexe\": 1, \"nombre\": 20710}, {\"annais\": 1910, \"preusuel\": \"MARIE\", \"sexe\": 2, \"nombre\": 45296}, {\"annais\": 1911, \"preusuel\": \"JEAN\", \"sexe\": 1, \"nombre\": 20050}, {\"annais\": 1911, \"preusuel\": \"MARIE\", \"sexe\": 2, \"nombre\": 42293}, {\"annais\": 1912, \"preusuel\": \"JEAN\", \"sexe\": 1, \"nombre\": 21652}, {\"annais\": 1912, \"preusuel\": \"MARIE\", \"sexe\": 2, \"nombre\": 43695}, {\"annais\": 1913, \"preusuel\": \"JEAN\", \"sexe\": 1, \"nombre\": 21898}, {\"annais\": 1913, \"preusuel\": \"MARIE\", \"sexe\": 2, \"nombre\": 42696}, {\"annais\": 1914, \"preusuel\": \"JEAN\", \"sexe\": 1, \"nombre\": 22088}, {\"annais\": 1914, \"preusuel\": \"MARIE\", \"sexe\": 2, \"nombre\": 42308}, {\"annais\": 1915, \"preusuel\": \"JEAN\", \"sexe\": 1, \"nombre\": 14351}, {\"annais\": 1915, \"preusuel\": \"MARIE\", \"sexe\": 2, \"nombre\": 26745}, {\"annais\": 1916, \"preusuel\": \"JEAN\", \"sexe\": 1, \"nombre\": 11274}, {\"annais\": 1916, \"preusuel\": \"MARIE\", \"sexe\": 2, \"nombre\": 19759}, {\"annais\": 1917, \"preusuel\": \"JEAN\", \"sexe\": 1, \"nombre\": 12446}, {\"annais\": 1917, \"preusuel\": \"MARIE\", \"sexe\": 2, \"nombre\": 20299}, {\"annais\": 1918, \"preusuel\": \"JEAN\", \"sexe\": 1, \"nombre\": 14546}, {\"annais\": 1918, \"preusuel\": \"MARIE\", \"sexe\": 2, \"nombre\": 22352}, {\"annais\": 1919, \"preusuel\": \"JEAN\", \"sexe\": 1, \"nombre\": 16331}, {\"annais\": 1919, \"preusuel\": \"MARIE\", \"sexe\": 2, \"nombre\": 23803}, {\"annais\": 1920, \"preusuel\": \"JEAN\", \"sexe\": 1, \"nombre\": 28890}, {\"annais\": 1920, \"preusuel\": \"MARIE\", \"sexe\": 2, \"nombre\": 38277}, {\"annais\": 1921, \"preusuel\": \"JEAN\", \"sexe\": 1, \"nombre\": 29008}, {\"annais\": 1921, \"preusuel\": \"MARIE\", \"sexe\": 2, \"nombre\": 36789}, {\"annais\": 1922, \"preusuel\": \"JEAN\", \"sexe\": 1, \"nombre\": 28518}, {\"annais\": 1922, \"preusuel\": \"MARIE\", \"sexe\": 2, \"nombre\": 34136}, {\"annais\": 1923, \"preusuel\": \"JEAN\", \"sexe\": 1, \"nombre\": 29303}, {\"annais\": 1923, \"preusuel\": \"MARIE\", \"sexe\": 2, \"nombre\": 33490}, {\"annais\": 1924, \"preusuel\": \"JEAN\", \"sexe\": 1, \"nombre\": 29776}, {\"annais\": 1924, \"preusuel\": \"MARIE\", \"sexe\": 2, \"nombre\": 32357}, {\"annais\": 1925, \"preusuel\": \"JEAN\", \"sexe\": 1, \"nombre\": 31192}, {\"annais\": 1925, \"preusuel\": \"MARIE\", \"sexe\": 2, \"nombre\": 31675}, {\"annais\": 1926, \"preusuel\": \"JEAN\", \"sexe\": 1, \"nombre\": 31525}, {\"annais\": 1926, \"preusuel\": \"MARIE\", \"sexe\": 2, \"nombre\": 31058}, {\"annais\": 1927, \"preusuel\": \"JEAN\", \"sexe\": 1, \"nombre\": 31451}, {\"annais\": 1927, \"preusuel\": \"MARIE\", \"sexe\": 2, \"nombre\": 29270}, {\"annais\": 1928, \"preusuel\": \"JEAN\", \"sexe\": 1, \"nombre\": 32109}, {\"annais\": 1928, \"preusuel\": \"MARIE\", \"sexe\": 2, \"nombre\": 28551}, {\"annais\": 1929, \"preusuel\": \"JEAN\", \"sexe\": 1, \"nombre\": 32071}, {\"annais\": 1929, \"preusuel\": \"MARIE\", \"sexe\": 2, \"nombre\": 26897}, {\"annais\": 1930, \"preusuel\": \"JEAN\", \"sexe\": 1, \"nombre\": 33850}, {\"annais\": 1930, \"preusuel\": \"MARIE\", \"sexe\": 2, \"nombre\": 27779}, {\"annais\": 1931, \"preusuel\": \"JEAN\", \"sexe\": 1, \"nombre\": 33464}, {\"annais\": 1931, \"preusuel\": \"MARIE\", \"sexe\": 2, \"nombre\": 27359}, {\"annais\": 1932, \"preusuel\": \"JEAN\", \"sexe\": 1, \"nombre\": 33836}, {\"annais\": 1932, \"preusuel\": \"MARIE\", \"sexe\": 2, \"nombre\": 26663}, {\"annais\": 1933, \"preusuel\": \"JEAN\", \"sexe\": 1, \"nombre\": 32860}, {\"annais\": 1933, \"preusuel\": \"MARIE\", \"sexe\": 2, \"nombre\": 24986}, {\"annais\": 1934, \"preusuel\": \"JEAN\", \"sexe\": 1, \"nombre\": 33519}, {\"annais\": 1934, \"preusuel\": \"MARIE\", \"sexe\": 2, \"nombre\": 24801}, {\"annais\": 1935, \"preusuel\": \"JEAN\", \"sexe\": 1, \"nombre\": 32697}, {\"annais\": 1935, \"preusuel\": \"MARIE\", \"sexe\": 2, \"nombre\": 23551}, {\"annais\": 1936, \"preusuel\": \"JEAN\", \"sexe\": 1, \"nombre\": 33331}, {\"annais\": 1936, \"preusuel\": \"MARIE\", \"sexe\": 2, \"nombre\": 23140}, {\"annais\": 1937, \"preusuel\": \"JEAN\", \"sexe\": 1, \"nombre\": 33698}, {\"annais\": 1937, \"preusuel\": \"MARIE\", \"sexe\": 2, \"nombre\": 22725}, {\"annais\": 1938, \"preusuel\": \"JEAN\", \"sexe\": 1, \"nombre\": 35384}, {\"annais\": 1938, \"preusuel\": \"MARIE\", \"sexe\": 2, \"nombre\": 23188}, {\"annais\": 1939, \"preusuel\": \"JEAN\", \"sexe\": 1, \"nombre\": 37321}, {\"annais\": 1939, \"preusuel\": \"MARIE\", \"sexe\": 2, \"nombre\": 23639}, {\"annais\": 1940, \"preusuel\": \"JEAN\", \"sexe\": 1, \"nombre\": 34917}, {\"annais\": 1940, \"preusuel\": \"MARIE\", \"sexe\": 2, \"nombre\": 22363}, {\"annais\": 1941, \"preusuel\": \"JEAN\", \"sexe\": 1, \"nombre\": 33332}, {\"annais\": 1941, \"preusuel\": \"MARIE\", \"sexe\": 2, \"nombre\": 20521}, {\"annais\": 1942, \"preusuel\": \"JEAN\", \"sexe\": 1, \"nombre\": 37565}, {\"annais\": 1942, \"preusuel\": \"MARIE\", \"sexe\": 2, \"nombre\": 22549}, {\"annais\": 1943, \"preusuel\": \"JEAN\", \"sexe\": 1, \"nombre\": 40799}, {\"annais\": 1943, \"preusuel\": \"MARIE\", \"sexe\": 2, \"nombre\": 24349}, {\"annais\": 1944, \"preusuel\": \"JEAN\", \"sexe\": 1, \"nombre\": 40148}, {\"annais\": 1944, \"preusuel\": \"MARIE\", \"sexe\": 2, \"nombre\": 25275}, {\"annais\": 1945, \"preusuel\": \"JEAN\", \"sexe\": 1, \"nombre\": 40795}, {\"annais\": 1945, \"preusuel\": \"MARIE\", \"sexe\": 2, \"nombre\": 25298}, {\"annais\": 1946, \"preusuel\": \"JEAN\", \"sexe\": 1, \"nombre\": 53584}, {\"annais\": 1946, \"preusuel\": \"MARIE\", \"sexe\": 2, \"nombre\": 31245}, {\"annais\": 1947, \"preusuel\": \"JEAN\", \"sexe\": 1, \"nombre\": 51397}, {\"annais\": 1947, \"preusuel\": \"MARIE\", \"sexe\": 2, \"nombre\": 32933}, {\"annais\": 1948, \"preusuel\": \"JEAN\", \"sexe\": 1, \"nombre\": 46281}, {\"annais\": 1948, \"preusuel\": \"MARIE\", \"sexe\": 2, \"nombre\": 31043}, {\"annais\": 1949, \"preusuel\": \"JEAN\", \"sexe\": 1, \"nombre\": 42873}, {\"annais\": 1949, \"preusuel\": \"MARIE\", \"sexe\": 2, \"nombre\": 30368}, {\"annais\": 1950, \"preusuel\": \"JEAN\", \"sexe\": 1, \"nombre\": 38353}, {\"annais\": 1950, \"preusuel\": \"MARIE\", \"sexe\": 2, \"nombre\": 28093}, {\"annais\": 1951, \"preusuel\": \"JEAN\", \"sexe\": 1, \"nombre\": 35303}, {\"annais\": 1951, \"preusuel\": \"MARIE\", \"sexe\": 2, \"nombre\": 25116}, {\"annais\": 1952, \"preusuel\": \"JEAN\", \"sexe\": 1, \"nombre\": 33995}, {\"annais\": 1952, \"preusuel\": \"MARIE\", \"sexe\": 2, \"nombre\": 25675}, {\"annais\": 1953, \"preusuel\": \"JEAN\", \"sexe\": 1, \"nombre\": 29356}, {\"annais\": 1953, \"preusuel\": \"MARIE\", \"sexe\": 2, \"nombre\": 22587}, {\"annais\": 1954, \"preusuel\": \"JEAN\", \"sexe\": 1, \"nombre\": 28585}, {\"annais\": 1954, \"preusuel\": \"MARIE\", \"sexe\": 2, \"nombre\": 23429}, {\"annais\": 1955, \"preusuel\": \"JEAN\", \"sexe\": 1, \"nombre\": 24872}, {\"annais\": 1955, \"preusuel\": \"MARTINE\", \"sexe\": 2, \"nombre\": 20840}, {\"annais\": 1956, \"preusuel\": \"JEAN\", \"sexe\": 1, \"nombre\": 23958}, {\"annais\": 1956, \"preusuel\": \"MARIE\", \"sexe\": 2, \"nombre\": 19580}, {\"annais\": 1957, \"preusuel\": \"JEAN\", \"sexe\": 1, \"nombre\": 22223}, {\"annais\": 1957, \"preusuel\": \"MARIE\", \"sexe\": 2, \"nombre\": 18192}, {\"annais\": 1958, \"preusuel\": \"PHILIPPE\", \"sexe\": 1, \"nombre\": 22111}, {\"annais\": 1958, \"preusuel\": \"MARIE\", \"sexe\": 2, \"nombre\": 18079}, {\"annais\": 1959, \"preusuel\": \"PHILIPPE\", \"sexe\": 1, \"nombre\": 23436}, {\"annais\": 1959, \"preusuel\": \"BRIGITTE\", \"sexe\": 2, \"nombre\": 18166}, {\"annais\": 1960, \"preusuel\": \"PHILIPPE\", \"sexe\": 1, \"nombre\": 24762}, {\"annais\": 1960, \"preusuel\": \"CATHERINE\", \"sexe\": 2, \"nombre\": 18045}, {\"annais\": 1961, \"preusuel\": \"PHILIPPE\", \"sexe\": 1, \"nombre\": 24968}, {\"annais\": 1961, \"preusuel\": \"SYLVIE\", \"sexe\": 2, \"nombre\": 19190}, {\"annais\": 1962, \"preusuel\": \"PHILIPPE\", \"sexe\": 1, \"nombre\": 24923}, {\"annais\": 1962, \"preusuel\": \"SYLVIE\", \"sexe\": 2, \"nombre\": 20823}, {\"annais\": 1963, \"preusuel\": \"PHILIPPE\", \"sexe\": 1, \"nombre\": 26210}, {\"annais\": 1963, \"preusuel\": \"SYLVIE\", \"sexe\": 2, \"nombre\": 25669}, {\"annais\": 1964, \"preusuel\": \"PHILIPPE\", \"sexe\": 1, \"nombre\": 26024}, {\"annais\": 1964, \"preusuel\": \"SYLVIE\", \"sexe\": 2, \"nombre\": 27554}, {\"annais\": 1965, \"preusuel\": \"THIERRY\", \"sexe\": 1, \"nombre\": 24542}, {\"annais\": 1965, \"preusuel\": \"NATHALIE\", \"sexe\": 2, \"nombre\": 30294}, {\"annais\": 1966, \"preusuel\": \"PHILIPPE\", \"sexe\": 1, \"nombre\": 22739}, {\"annais\": 1966, \"preusuel\": \"NATHALIE\", \"sexe\": 2, \"nombre\": 31410}, {\"annais\": 1967, \"preusuel\": \"CHRISTOPHE\", \"sexe\": 1, \"nombre\": 21727}, {\"annais\": 1967, \"preusuel\": \"NATHALIE\", \"sexe\": 2, \"nombre\": 29235}, {\"annais\": 1968, \"preusuel\": \"CHRISTOPHE\", \"sexe\": 1, \"nombre\": 21471}, {\"annais\": 1968, \"preusuel\": \"NATHALIE\", \"sexe\": 2, \"nombre\": 28589}, {\"annais\": 1969, \"preusuel\": \"CHRISTOPHE\", \"sexe\": 1, \"nombre\": 22640}, {\"annais\": 1969, \"preusuel\": \"NATHALIE\", \"sexe\": 2, \"nombre\": 28363}, {\"annais\": 1970, \"preusuel\": \"CHRISTOPHE\", \"sexe\": 1, \"nombre\": 21852}, {\"annais\": 1970, \"preusuel\": \"NATHALIE\", \"sexe\": 2, \"nombre\": 26217}, {\"annais\": 1971, \"preusuel\": \"ST\\u00c9PHANE\", \"sexe\": 1, \"nombre\": 23327}, {\"annais\": 1971, \"preusuel\": \"NATHALIE\", \"sexe\": 2, \"nombre\": 22679}, {\"annais\": 1972, \"preusuel\": \"CHRISTOPHE\", \"sexe\": 1, \"nombre\": 21157}, {\"annais\": 1972, \"preusuel\": \"SANDRINE\", \"sexe\": 2, \"nombre\": 19885}, {\"annais\": 1973, \"preusuel\": \"CHRISTOPHE\", \"sexe\": 1, \"nombre\": 21069}, {\"annais\": 1973, \"preusuel\": \"SANDRINE\", \"sexe\": 2, \"nombre\": 17607}, {\"annais\": 1974, \"preusuel\": \"ST\\u00c9PHANE\", \"sexe\": 1, \"nombre\": 18512}, {\"annais\": 1974, \"preusuel\": \"ST\\u00c9PHANIE\", \"sexe\": 2, \"nombre\": 23522}, {\"annais\": 1975, \"preusuel\": \"S\\u00c9BASTIEN\", \"sexe\": 1, \"nombre\": 16770}, {\"annais\": 1975, \"preusuel\": \"ST\\u00c9PHANIE\", \"sexe\": 2, \"nombre\": 19596}, {\"annais\": 1976, \"preusuel\": \"S\\u00c9BASTIEN\", \"sexe\": 1, \"nombre\": 19287}, {\"annais\": 1976, \"preusuel\": \"ST\\u00c9PHANIE\", \"sexe\": 2, \"nombre\": 16695}, {\"annais\": 1977, \"preusuel\": \"S\\u00c9BASTIEN\", \"sexe\": 1, \"nombre\": 19467}, {\"annais\": 1977, \"preusuel\": \"ST\\u00c9PHANIE\", \"sexe\": 2, \"nombre\": 15054}, {\"annais\": 1978, \"preusuel\": \"S\\u00c9BASTIEN\", \"sexe\": 1, \"nombre\": 19101}, {\"annais\": 1978, \"preusuel\": \"C\\u00c9LINE\", \"sexe\": 2, \"nombre\": 12131}, {\"annais\": 1979, \"preusuel\": \"S\\u00c9BASTIEN\", \"sexe\": 1, \"nombre\": 17501}, {\"annais\": 1979, \"preusuel\": \"C\\u00c9LINE\", \"sexe\": 2, \"nombre\": 13705}, {\"annais\": 1980, \"preusuel\": \"NICOLAS\", \"sexe\": 1, \"nombre\": 21805}, {\"annais\": 1980, \"preusuel\": \"C\\u00c9LINE\", \"sexe\": 2, \"nombre\": 12852}, {\"annais\": 1981, \"preusuel\": \"NICOLAS\", \"sexe\": 1, \"nombre\": 20826}, {\"annais\": 1981, \"preusuel\": \"C\\u00c9LINE\", \"sexe\": 2, \"nombre\": 12504}, {\"annais\": 1982, \"preusuel\": \"NICOLAS\", \"sexe\": 1, \"nombre\": 17800}, {\"annais\": 1982, \"preusuel\": \"AUR\\u00c9LIE\", \"sexe\": 2, \"nombre\": 13677}, {\"annais\": 1983, \"preusuel\": \"JULIEN\", \"sexe\": 1, \"nombre\": 16335}, {\"annais\": 1983, \"preusuel\": \"AUR\\u00c9LIE\", \"sexe\": 2, \"nombre\": 13927}, {\"annais\": 1984, \"preusuel\": \"JULIEN\", \"sexe\": 1, \"nombre\": 15229}, {\"annais\": 1984, \"preusuel\": \"AUR\\u00c9LIE\", \"sexe\": 2, \"nombre\": 12889}, {\"annais\": 1985, \"preusuel\": \"JULIEN\", \"sexe\": 1, \"nombre\": 17027}, {\"annais\": 1985, \"preusuel\": \"AUR\\u00c9LIE\", \"sexe\": 2, \"nombre\": 12573}, {\"annais\": 1986, \"preusuel\": \"JULIEN\", \"sexe\": 1, \"nombre\": 15330}, {\"annais\": 1986, \"preusuel\": \"AUR\\u00c9LIE\", \"sexe\": 2, \"nombre\": 11317}, {\"annais\": 1987, \"preusuel\": \"JULIEN\", \"sexe\": 1, \"nombre\": 13418}, {\"annais\": 1987, \"preusuel\": \"JULIE\", \"sexe\": 2, \"nombre\": 9937}, {\"annais\": 1988, \"preusuel\": \"JULIEN\", \"sexe\": 1, \"nombre\": 12452}, {\"annais\": 1988, \"preusuel\": \"ELODIE\", \"sexe\": 2, \"nombre\": 11823}, {\"annais\": 1989, \"preusuel\": \"KEVIN\", \"sexe\": 1, \"nombre\": 11353}, {\"annais\": 1989, \"preusuel\": \"ELODIE\", \"sexe\": 2, \"nombre\": 10480}, {\"annais\": 1990, \"preusuel\": \"KEVIN\", \"sexe\": 1, \"nombre\": 11416}, {\"annais\": 1990, \"preusuel\": \"ELODIE\", \"sexe\": 2, \"nombre\": 8619}, {\"annais\": 1991, \"preusuel\": \"KEVIN\", \"sexe\": 1, \"nombre\": 13330}, {\"annais\": 1991, \"preusuel\": \"MARINE\", \"sexe\": 2, \"nombre\": 8203}, {\"annais\": 1992, \"preusuel\": \"KEVIN\", \"sexe\": 1, \"nombre\": 12648}, {\"annais\": 1992, \"preusuel\": \"LAURA\", \"sexe\": 2, \"nombre\": 7492}, {\"annais\": 1993, \"preusuel\": \"KEVIN\", \"sexe\": 1, \"nombre\": 11225}, {\"annais\": 1993, \"preusuel\": \"LAURA\", \"sexe\": 2, \"nombre\": 7560}, {\"annais\": 1994, \"preusuel\": \"KEVIN\", \"sexe\": 1, \"nombre\": 9865}, {\"annais\": 1994, \"preusuel\": \"LAURA\", \"sexe\": 2, \"nombre\": 7929}, {\"annais\": 1995, \"preusuel\": \"NICOLAS\", \"sexe\": 1, \"nombre\": 9139}, {\"annais\": 1995, \"preusuel\": \"MANON\", \"sexe\": 2, \"nombre\": 8243}, {\"annais\": 1996, \"preusuel\": \"THOMAS\", \"sexe\": 1, \"nombre\": 9391}, {\"annais\": 1996, \"preusuel\": \"MANON\", \"sexe\": 2, \"nombre\": 7617}, {\"annais\": 1997, \"preusuel\": \"THOMAS\", \"sexe\": 1, \"nombre\": 9590}, {\"annais\": 1997, \"preusuel\": \"L\\u00c9A\", \"sexe\": 2, \"nombre\": 7505}, {\"annais\": 1998, \"preusuel\": \"THOMAS\", \"sexe\": 1, \"nombre\": 9415}, {\"annais\": 1998, \"preusuel\": \"L\\u00c9A\", \"sexe\": 2, \"nombre\": 8144}, {\"annais\": 1999, \"preusuel\": \"THOMAS\", \"sexe\": 1, \"nombre\": 9409}, {\"annais\": 1999, \"preusuel\": \"L\\u00c9A\", \"sexe\": 2, \"nombre\": 9657}, {\"annais\": 2000, \"preusuel\": \"THOMAS\", \"sexe\": 1, \"nombre\": 10452}, {\"annais\": 2000, \"preusuel\": \"L\\u00c9A\", \"sexe\": 2, \"nombre\": 10673}, {\"annais\": 2001, \"preusuel\": \"THOMAS\", \"sexe\": 1, \"nombre\": 10107}, {\"annais\": 2001, \"preusuel\": \"L\\u00c9A\", \"sexe\": 2, \"nombre\": 10724}, {\"annais\": 2002, \"preusuel\": \"LUCAS\", \"sexe\": 1, \"nombre\": 9318}, {\"annais\": 2002, \"preusuel\": \"L\\u00c9A\", \"sexe\": 2, \"nombre\": 9746}, {\"annais\": 2003, \"preusuel\": \"LUCAS\", \"sexe\": 1, \"nombre\": 8292}, {\"annais\": 2003, \"preusuel\": \"L\\u00c9A\", \"sexe\": 2, \"nombre\": 8983}, {\"annais\": 2004, \"preusuel\": \"ENZO\", \"sexe\": 1, \"nombre\": 7961}, {\"annais\": 2004, \"preusuel\": \"L\\u00c9A\", \"sexe\": 2, \"nombre\": 7395}, {\"annais\": 2005, \"preusuel\": \"ENZO\", \"sexe\": 1, \"nombre\": 8854}, {\"annais\": 2005, \"preusuel\": \"EMMA\", \"sexe\": 2, \"nombre\": 7098}, {\"annais\": 2006, \"preusuel\": \"ENZO\", \"sexe\": 1, \"nombre\": 8325}, {\"annais\": 2006, \"preusuel\": \"EMMA\", \"sexe\": 2, \"nombre\": 7104}, {\"annais\": 2007, \"preusuel\": \"ENZO\", \"sexe\": 1, \"nombre\": 7493}, {\"annais\": 2007, \"preusuel\": \"EMMA\", \"sexe\": 2, \"nombre\": 6741}, {\"annais\": 2008, \"preusuel\": \"LUCAS\", \"sexe\": 1, \"nombre\": 7070}, {\"annais\": 2008, \"preusuel\": \"EMMA\", \"sexe\": 2, \"nombre\": 6767}, {\"annais\": 2009, \"preusuel\": \"LUCAS\", \"sexe\": 1, \"nombre\": 7480}, {\"annais\": 2009, \"preusuel\": \"EMMA\", \"sexe\": 2, \"nombre\": 6588}, {\"annais\": 2010, \"preusuel\": \"NATHAN\", \"sexe\": 1, \"nombre\": 7033}, {\"annais\": 2010, \"preusuel\": \"EMMA\", \"sexe\": 2, \"nombre\": 6402}, {\"annais\": 2011, \"preusuel\": \"LUCAS\", \"sexe\": 1, \"nombre\": 6102}, {\"annais\": 2011, \"preusuel\": \"EMMA\", \"sexe\": 2, \"nombre\": 5924}, {\"annais\": 2012, \"preusuel\": \"LUCAS\", \"sexe\": 1, \"nombre\": 5730}, {\"annais\": 2012, \"preusuel\": \"EMMA\", \"sexe\": 2, \"nombre\": 5183}, {\"annais\": 2013, \"preusuel\": \"LUCAS\", \"sexe\": 1, \"nombre\": 5657}, {\"annais\": 2013, \"preusuel\": \"EMMA\", \"sexe\": 2, \"nombre\": 4792}, {\"annais\": 2014, \"preusuel\": \"LUCAS\", \"sexe\": 1, \"nombre\": 5471}, {\"annais\": 2014, \"preusuel\": \"JADE\", \"sexe\": 2, \"nombre\": 4691}, {\"annais\": 2015, \"preusuel\": \"GABRIEL\", \"sexe\": 1, \"nombre\": 5646}, {\"annais\": 2015, \"preusuel\": \"LOUISE\", \"sexe\": 2, \"nombre\": 4543}, {\"annais\": 2016, \"preusuel\": \"GABRIEL\", \"sexe\": 1, \"nombre\": 5871}, {\"annais\": 2016, \"preusuel\": \"EMMA\", \"sexe\": 2, \"nombre\": 4717}, {\"annais\": 2017, \"preusuel\": \"GABRIEL\", \"sexe\": 1, \"nombre\": 5439}, {\"annais\": 2017, \"preusuel\": \"EMMA\", \"sexe\": 2, \"nombre\": 4810}, {\"annais\": 2018, \"preusuel\": \"GABRIEL\", \"sexe\": 1, \"nombre\": 5422}, {\"annais\": 2018, \"preusuel\": \"EMMA\", \"sexe\": 2, \"nombre\": 4365}, {\"annais\": 2019, \"preusuel\": \"GABRIEL\", \"sexe\": 1, \"nombre\": 4988}, {\"annais\": 2019, \"preusuel\": \"EMMA\", \"sexe\": 2, \"nombre\": 3946}, {\"annais\": 2020, \"preusuel\": \"L\\u00c9O\", \"sexe\": 1, \"nombre\": 4491}, {\"annais\": 2020, \"preusuel\": \"JADE\", \"sexe\": 2, \"nombre\": 3812}]}}, {\"mode\": \"vega-lite\"});\n",
       "</script>"
      ],
      "text/plain": [
       "alt.Chart(...)"
      ]
     },
     "execution_count": 17,
     "metadata": {},
     "output_type": "execute_result"
    }
   ],
   "source": [
    "# Create the bar chart without faceting\n",
    "bars = alt.Chart(most_popular_names).mark_bar().encode(\n",
    "    x=alt.X('annais:O', title='Year', axis=alt.Axis(labelAngle=-90)),\n",
    "    y=alt.Y('nombre:Q', title='Number of Babies'),\n",
    "    color=alt.Color('sexe:N', scale=alt.Scale(domain=[1, 2], range=['lightblue', 'lightcoral']),\n",
    "                    title='Gender'),\n",
    "    tooltip=['annais','preusuel', 'nombre']\n",
    ").properties(\n",
    "    width=1200,\n",
    "    height=600\n",
    ")\n",
    "\n",
    "# # Add text annotations\n",
    "# text = bars.mark_text(\n",
    "#     align='center',\n",
    "#     baseline='bottom',\n",
    "#     dy=-5  # Adjust the position\n",
    "# ).encode(\n",
    "#     text='nombre:Q'\n",
    "# )\n",
    "\n",
    "# Combine bar chart and text\n",
    "final_chart = (bars).properties(\n",
    "    title='Most Popular Male and Female Names in France Between 1900 and 2020'\n",
    ")\n",
    "\n",
    "final_chart"
   ]
  }
 ],
 "metadata": {
  "kernelspec": {
   "display_name": "Python 3",
   "language": "python",
   "name": "python3"
  },
  "language_info": {
   "codemirror_mode": {
    "name": "ipython",
    "version": 3
   },
   "file_extension": ".py",
   "mimetype": "text/x-python",
   "name": "python",
   "nbconvert_exporter": "python",
   "pygments_lexer": "ipython3",
   "version": "3.9.19"
  }
 },
 "nbformat": 4,
 "nbformat_minor": 2
}
